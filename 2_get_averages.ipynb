{
 "cells": [
  {
   "cell_type": "markdown",
   "id": "5a34c98f",
   "metadata": {},
   "source": [
    "# Step 2: Retrieve averages\n",
    "\n",
    "In this notebook, we are going to check which variables are available in our collaboration. As we cannot see the data, we need to get some basic information about the available data in another way. Preferably, every node should have FAIR data descriptions, but these are not always available. In this notebook, we are going to retrieve the *global* average for a specific column. This means, an average calculated over all nodes available, for a given column.\n",
    "\n",
    "How this works is as follows:\n",
    "\n",
    "1. The nodes calculate the sum for a given column, and the number of values on which this sum was based\n",
    "2. The *aggregation node* calculates the sum of sums, and divides it by the count of numbers. This can be denoted as: $$ globalAverage = \\dfrac{\n",
    "  \\sum_{n=1}^{m}{S_n}\n",
    "}{\n",
    "  \\sum_{n=1}^{m}{C_n}\n",
    "} $$ where $S_n$ represents the sum of a given node, and $C_n$ represents the count of numbers for a given node.\n",
    "\n",
    "Access to this collaboration, and its connected nodes has been arranged by the central server. Based on the given username and password (and server URL) we can connect to our collaboration.\n",
    "\n",
    "**Task: fill in the correct connection details in the cell below, and execute the first two cells**"
   ]
  },
  {
   "cell_type": "code",
   "execution_count": null,
   "id": "e67b9da6",
   "metadata": {},
   "outputs": [],
   "source": [
    "vantage_broker_url = \"http://home.johanvansoest.nl\"\n",
    "vantage_broker_username = \"node1-user\"\n",
    "vantage_broker_password = \"node1-password\"\n",
    "\n",
    "vantage_broker_encryption = None\n",
    "vantage_broker_port = 5000\n",
    "vantage_broker_api_path = \"/api\""
   ]
  },
  {
   "cell_type": "code",
   "execution_count": null,
   "id": "c2a61001",
   "metadata": {},
   "outputs": [],
   "source": [
    "! pip install vantage6\n",
    "# Setup client connection\n",
    "from vantage6.client import Client\n",
    "client = Client(vantage_broker_url, vantage_broker_port, vantage_broker_api_path)\n",
    "client.authenticate(vantage_broker_username, vantage_broker_password)\n",
    "client.setup_encryption(vantage_broker_encryption)"
   ]
  },
  {
   "cell_type": "markdown",
   "id": "b9a46615",
   "metadata": {},
   "source": [
    "We are now connected to the Vantage central server, and have access to several collaborations.\n",
    "\n",
    "**Task: execute the cell below, to which collaboration(s) do we have access? And which nodes are available in this collaboration?**"
   ]
  },
  {
   "cell_type": "code",
   "execution_count": null,
   "id": "f02c1953",
   "metadata": {},
   "outputs": [],
   "source": [
    "import json\n",
    "collaboration_list = client.collaboration.list()\n",
    "collaboration_index = 0\n",
    "organization_ids_ = [ ]\n",
    "\n",
    "for organization in collaboration_list[collaboration_index]['organizations']:\n",
    "    organization_ids_.append(organization['id'])\n",
    "# print(json.dumps(collaboration_list, indent=2))"
   ]
  },
  {
   "cell_type": "markdown",
   "id": "43c65bb8",
   "metadata": {},
   "source": [
    "Now we know the collaboration, we can post a request to the central server. In this request, we will ask to retrieve the average of a specified column. This is done by requesting to execute the Docker image with name `jaspersnel/v6-average-py`. This image needs some input arguments filled in on the line `kwargs` as shown below.\n",
    "\n",
    "**Task: execute the cell below.**"
   ]
  },
  {
   "cell_type": "code",
   "execution_count": null,
   "id": "9af9a9fc",
   "metadata": {},
   "outputs": [],
   "source": [
    "input_ = {\n",
    "    \"master\": \"true\",\n",
    "    \"method\":\"master\", \n",
    "    \"args\": [],\n",
    "    \"kwargs\": {\"column_name\": \"age\"}\n",
    "}\n",
    "\n",
    "task = client.post_task(\n",
    "    name=\"RetrieveVariables\",\n",
    "    image=\"jaspersnel/v6-average-py\",\n",
    "    collaboration_id=collaboration_list[collaboration_index]['id'],\n",
    "    input_= input_,\n",
    "    organization_ids=[organization_ids_[0]]\n",
    ")"
   ]
  },
  {
   "cell_type": "markdown",
   "id": "b1f445a8",
   "metadata": {},
   "source": [
    "The request has been sent to the given collaboration. Now we can fetch for the results. As we do not know when the nodes are finished, we implemented a waiting loop procedure. This is implemented below at line 5.\n",
    "\n",
    "**Task: execute the cell below. What is the average?**"
   ]
  },
  {
   "cell_type": "code",
   "execution_count": null,
   "id": "7670cd11",
   "metadata": {},
   "outputs": [],
   "source": [
    "import time\n",
    "import json\n",
    "resultObjRef = task.get(\"results\")[0]\n",
    "resultObj = client.result.get(resultObjRef['id'])\n",
    "attempts = 1\n",
    "while((resultObj[\"finished_at\"] == None) and attempts < 10):\n",
    "    print(\"waiting...\")\n",
    "    time.sleep(5)\n",
    "    resultObj = client.result.get(resultObjRef['id'])\n",
    "    attempts += 1\n",
    "resultObj['result']['average']"
   ]
  },
  {
   "cell_type": "markdown",
   "id": "3485d10f",
   "metadata": {},
   "source": [
    "Repeat the above two cells to find the average for other columns.\n",
    "\n",
    "**Task: what is the average for the clinical T stage, and clinical N stage?**"
   ]
  }
 ],
 "metadata": {
  "kernelspec": {
   "display_name": "Python 3 (ipykernel)",
   "language": "python",
   "name": "python3"
  },
  "language_info": {
   "codemirror_mode": {
    "name": "ipython",
    "version": 3
   },
   "file_extension": ".py",
   "mimetype": "text/x-python",
   "name": "python",
   "nbconvert_exporter": "python",
   "pygments_lexer": "ipython3",
   "version": "3.9.6"
  }
 },
 "nbformat": 4,
 "nbformat_minor": 5
}
