{
 "cells": [
  {
   "cell_type": "markdown",
   "id": "569faa38-0820-4f11-a611-72c5517e16d5",
   "metadata": {
    "tags": []
   },
   "source": [
    "# VertiBayes\n",
    "\n",
    "VertiBayes is an algorithm that can train a Bayesian Network in a Vertical setting.\n",
    "It is implemented within vantage6\n",
    "\n",
    "## The training data:\n",
    "The training data used is the ASIA dataset (https://www.bnlearn.com/documentation/man/asia.html)  \n",
    "This is a synthetic dataset containing the following attributes: \n",
    "- D (dyspnoea), a two-level factor with levels yes and no.\n",
    "- T (tuberculosis), a two-level factor with levels yes and no.\n",
    "- L (lung cancer), a two-level factor with levels yes and no.\n",
    "- B (bronchitis), a two-level factor with levels yes and no.\n",
    "- A (visit to Asia), a two-level factor with levels yes and no.\n",
    "- S (smoking), a two-level factor with levels yes and no.\n",
    "- X (chest X-ray), a two-level factor with levels yes and no.\n",
    "- E (tuberculosis versus lung cancer/bronchitis), a two-level factor with levels yes and no.\n",
    "\n",
    "## Training a Bayesian Network:\n",
    "A bayesian network is trained in two phases:\n",
    "1) Structure training\n",
    "2) Parameter training\n",
    "\n",
    "VertiBayes can handle both aspects of training.\n",
    "\n",
    "Additionally, VertiBayes can train a network with a predefined structure.\n",
    "\n",
    "# Training with a predefined structure\n",
    "Training with a predefined structure has two advantages.\n",
    "1) You can incorperate existing expert knowledge\n",
    "2) It is faster as you can skip the structure learning part\n",
    "\n",
    "Since federated learning always has an overhead when compared to central learning being able to take advantage of this is useful.\n",
    "\n",
    "# Step one: training with a predefined structure\n",
    "In the following cells we will show you a vantage6 call to train a network with a predefined structure"
   ]
  },
  {
   "cell_type": "code",
   "execution_count": 1,
   "id": "04b56f80-c127-42f2-a37c-516a12e28566",
   "metadata": {
    "tags": []
   },
   "outputs": [],
   "source": [
    "# Vantage6 boilerplate:\n",
    "import vantage6.client as v6client\n",
    "\n",
    "from VertiBayes.client import VertibayesClient\n",
    "from VertiBayes.BifToNetConverter  import mapBif\n",
    "from thomas.jupyter import BayesianNetworkWidget\n",
    "from thomas.core.reader import net\n",
    "\n",
    "import time\n",
    "\n",
    "PRIVATE_KEY_DIR= \"somewhere\"\n",
    "USERNAME=\"user"\n",
    "PASSWORD=\"password\"\n",
    "\n",
    "HOST = 'url'\n",
    "PORT = 443\n",
    "PRIVATE_KEY = PRIVATE_KEY_DIR\n",
    "\n",
    "client = v6client.Client(host=HOST, port=PORT, log_level='critical')\n",
    "client.authenticate(USERNAME, PASSWORD)\n",
    "\n",
    "client.setup_encryption(PRIVATE_KEY)\n",
    "\n",
    "vertibayes_client = VertibayesClient(client)\n",
    "\n",
    "node1 = 3\n",
    "node2 = 4\n",
    "commodity_node = 2\n",
    "exclude = [5,6]\n",
    "\n",
    "collaboration_id=1"
   ]
  },
  {
   "cell_type": "markdown",
   "id": "fa4a6aec-3b0a-4e59-bc46-a51e1052ba1e",
   "metadata": {},
   "source": [
    "The following cell contains the specific settings for VertiBayes. Feel free to play around with them."
   ]
  },
  {
   "cell_type": "code",
   "execution_count": 2,
   "id": "eb47e369-2579-4cdd-8a6a-3dc60796b3bd",
   "metadata": {
    "tags": []
   },
   "outputs": [
    {
     "name": "stdout",
     "output_type": "stream",
     "text": [
      "waiting\n",
      "waiting\n",
      "waiting\n",
      "waiting\n",
      "waiting\n",
      "waiting\n",
      "waiting\n",
      "waiting\n",
      "waiting\n",
      "waiting\n",
      "waiting\n",
      "waiting\n",
      "waiting\n",
      "waiting\n",
      "waiting\n",
      "waiting\n",
      "waiting\n",
      "waiting\n",
      "waiting\n",
      "waiting\n",
      "waiting\n",
      "waiting\n",
      "waiting\n",
      "waiting\n",
      "waiting\n",
      "waiting\n",
      "waiting\n",
      "waiting\n",
      "waiting\n"
     ]
    },
    {
     "data": {
      "application/vnd.jupyter.widget-view+json": {
       "model_id": "8b08940294584e33906b7c9d2057d8f2",
       "version_major": 2,
       "version_minor": 0
      },
      "text/plain": [
       "BayesianNetworkWidget(marginals_and_evidence={'marginals': {'x1': {'All;All': 1.0}, 'x2': {'All;All': 1.0}, 'x…"
      ]
     },
     "execution_count": 2,
     "metadata": {},
     "output_type": "execute_result"
    }
   ],
   "source": [
    "#VertiBayes specific settings\n",
    "minPercentage= 0.1 #Minimum percentage of population for binning in case of continious attributes\n",
    "folds =2 #Number of folds used during k-fold cross validation\n",
    "target_attribute = \"x3\" #Target attribute\n",
    "train_network = False #Train structure flag. A predefined structure can be refined this way\n",
    "\n",
    "task = vertibayes_client.vertibayes(collaboration_id, commodity_node, [node1, node2], target_attribute, minPercentage, folds, train_network)\n",
    "\n",
    "done = False\n",
    "while(not done):\n",
    "    time.sleep(5)\n",
    "    print(\"waiting\")\n",
    "    for r in task['results']:\n",
    "        updated = client.result.get(r['id'])\n",
    "        organization = updated[\"organization\"][\"id\"]\n",
    "        result = updated['result']\n",
    "        if result != None:\n",
    "            done = True\n",
    "\n",
    "#Print a pretty result\n",
    "bif = result['openMarkov']\n",
    "network  =  mapBif(bif)\n",
    "network\n",
    "\n",
    "# ToDo: nicely show network using\n",
    "bn = net.readFromString(network)\n",
    "view = BayesianNetworkWidget(bn)\n",
    "view"
   ]
  },
  {
   "cell_type": "markdown",
   "id": "8fcee78b-ab67-49cf-bbe2-c9291e9a17f1",
   "metadata": {},
   "source": [
    "# Validation\n",
    "The performance of a model is normally validated using the AUC score.  \n",
    "This score is difficult to calculate in a privacy preserving manner in a vertically partitioned scenario.  \n",
    "Within VertiBayes we have also developed two privacy preserving manners to validate the model, both utilize Synthetic data to perform k-fold cross validation in a privacy preserving way. The manner in which this data is synergized differs for the two methods. Those interested can read more about these validation methods in our preprint: https://arxiv.org/pdf/2210.17228.pdf"
   ]
  },
  {
   "cell_type": "code",
   "execution_count": 5,
   "id": "0d9c0bb1-9dda-4bd5-be6e-92b63da9730e",
   "metadata": {
    "tags": []
   },
   "outputs": [
    {
     "data": {
      "text/plain": [
       "0.5"
      ]
     },
     "execution_count": 5,
     "metadata": {},
     "output_type": "execute_result"
    }
   ],
   "source": [
    "# Performance as measured by AUC using svdg approach:\n",
    "result['svdgAuc']"
   ]
  },
  {
   "cell_type": "code",
   "execution_count": 6,
   "id": "16a1246b-3a8f-4b0d-93af-98b9679fbfd3",
   "metadata": {},
   "outputs": [
    {
     "data": {
      "text/plain": [
       "0.49949991548571704"
      ]
     },
     "execution_count": 6,
     "metadata": {},
     "output_type": "execute_result"
    }
   ],
   "source": [
    "# Performance as measured by AUC using scv approach\n",
    "result['scvAuc']"
   ]
  },
  {
   "cell_type": "markdown",
   "id": "220227f6-e8ca-4c62-ab5e-c15b2268e65a",
   "metadata": {},
   "source": [
    "# Bonus Excercise: play with the predefined structure\n",
    "\n",
    "The network structure you just trained was predefined in /VertiBayes/Client.py.  \n",
    "By playing with the parents you can defined different structures. You can even remove entire nodes.\n",
    "Do make sure noone becomes their own grandfather fo avoid any potential issues."
   ]
  },
  {
   "cell_type": "markdown",
   "id": "5352b6f4-3118-448d-98eb-4f9720f0705b",
   "metadata": {
    "tags": []
   },
   "source": [
    "# Training without a predefined network\n",
    "Below is the vantage6 call to train without a predefined network"
   ]
  },
  {
   "cell_type": "code",
   "execution_count": 10,
   "id": "070be58e-f7af-49c6-9bcb-7c3f6b3aabb9",
   "metadata": {
    "tags": []
   },
   "outputs": [
    {
     "name": "stdout",
     "output_type": "stream",
     "text": [
      "waiting\n",
      "waiting\n",
      "waiting\n",
      "waiting\n"
     ]
    },
    {
     "ename": "KeyboardInterrupt",
     "evalue": "",
     "output_type": "error",
     "traceback": [
      "\u001b[0;31m---------------------------------------------------------------------------\u001b[0m",
      "\u001b[0;31mKeyboardInterrupt\u001b[0m                         Traceback (most recent call last)",
      "Cell \u001b[0;32mIn[10], line 12\u001b[0m\n\u001b[1;32m     10\u001b[0m done \u001b[38;5;241m=\u001b[39m \u001b[38;5;28;01mFalse\u001b[39;00m\n\u001b[1;32m     11\u001b[0m \u001b[38;5;28;01mwhile\u001b[39;00m(\u001b[38;5;129;01mnot\u001b[39;00m done):\n\u001b[0;32m---> 12\u001b[0m     \u001b[43mtime\u001b[49m\u001b[38;5;241;43m.\u001b[39;49m\u001b[43msleep\u001b[49m\u001b[43m(\u001b[49m\u001b[38;5;241;43m5\u001b[39;49m\u001b[43m)\u001b[49m\n\u001b[1;32m     13\u001b[0m     \u001b[38;5;28mprint\u001b[39m(\u001b[38;5;124m\"\u001b[39m\u001b[38;5;124mwaiting\u001b[39m\u001b[38;5;124m\"\u001b[39m)\n\u001b[1;32m     14\u001b[0m     \u001b[38;5;28;01mfor\u001b[39;00m r \u001b[38;5;129;01min\u001b[39;00m task[\u001b[38;5;124m'\u001b[39m\u001b[38;5;124mresults\u001b[39m\u001b[38;5;124m'\u001b[39m]:\n",
      "\u001b[0;31mKeyboardInterrupt\u001b[0m: "
     ]
    }
   ],
   "source": [
    "# Call vantage6\n",
    "minPercentage= 0.1 #Minimum percentage of population for binning in case of continious attributes\n",
    "folds =2 #Number of folds used during k-fold cross validation\n",
    "target_attribute = \"x3\" #Target attribute\n",
    "train_network = True #Train structure flag. A predefined structure can be refined this way\n",
    "\n",
    "task = vertibayes_client.vertibayesNoInitialNetwork(collaboration_id, commodity_node, [node1, node2], target_attribute, minPercentage, folds, train_network)\n",
    "\n",
    "# Wait for result\n",
    "done = False\n",
    "while(not done):\n",
    "    time.sleep(5)\n",
    "    print(\"waiting\")\n",
    "    for r in task['results']:\n",
    "        updated = client.result.get(r['id'])\n",
    "        organization = updated[\"organization\"][\"id\"]\n",
    "        result = updated['result']\n",
    "        if result != None:\n",
    "            done = True\n",
    "\n",
    "#Make a pretty result\n",
    "bif = result['openMarkov']\n",
    "network  =  mapBif(bif)\n",
    "network\n",
    "\n",
    "# ToDo: nicely show network\n",
    "bn = net.readFromString(network)\n",
    "view = BayesianNetworkWidget(bn)\n",
    "view"
   ]
  },
  {
   "cell_type": "code",
   "execution_count": 8,
   "id": "e88d8cd6-671f-4022-85e1-efa2ad920535",
   "metadata": {},
   "outputs": [
    {
     "data": {
      "text/plain": [
       "0.8609803087230736"
      ]
     },
     "execution_count": 8,
     "metadata": {},
     "output_type": "execute_result"
    }
   ],
   "source": [
    "# Performance as measured by AUC using svdg approach:\n",
    "result['svdgAuc']"
   ]
  },
  {
   "cell_type": "code",
   "execution_count": 9,
   "id": "b663b94a-ff69-49de-ac38-c6dcbd9429d5",
   "metadata": {},
   "outputs": [
    {
     "data": {
      "text/plain": [
       "0.9478153438098114"
      ]
     },
     "execution_count": 9,
     "metadata": {},
     "output_type": "execute_result"
    }
   ],
   "source": [
    "# Performance as measured by AUC using scv approach\n",
    "result['scvAuc']"
   ]
  }
 ],
 "metadata": {
  "kernelspec": {
   "display_name": "Python 3 (ipykernel)",
   "language": "python",
   "name": "python3"
  },
  "language_info": {
   "codemirror_mode": {
    "name": "ipython",
    "version": 3
   },
   "file_extension": ".py",
   "mimetype": "text/x-python",
   "name": "python",
   "nbconvert_exporter": "python",
   "pygments_lexer": "ipython3",
   "version": "3.10.10"
  }
 },
 "nbformat": 4,
 "nbformat_minor": 5
}
