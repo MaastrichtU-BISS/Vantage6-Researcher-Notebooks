{
 "cells": [
  {
   "cell_type": "markdown",
   "id": "2190c032",
   "metadata": {},
   "source": [
    "# Step 3: execute Cox Proportional Hazards model\n",
    "\n",
    "This notebook performs the Cox Proportional Hazards model on the collaboration at hand. As we have previously identified the column names (see [1_check_variables.ipynb](1_check_variables.ipynb)), we now want to execute this ML algorithm on the data available in the stations. Specifically, we want to use the following input variables:\n",
    "\n",
    "- Age\n",
    "- Clinical tumor stage\n",
    "- Clinical nodal stage\n",
    "\n",
    "The outcome/objective of the model is the right-censored variable called survival.\n",
    "\n",
    "**Task: run the cell below, to install the Vantage CoxPH client package**"
   ]
  },
  {
   "cell_type": "code",
   "execution_count": null,
   "id": "1231c55e",
   "metadata": {},
   "outputs": [],
   "source": [
    "# This also installs the package vtg\n",
    "devtools::install_github('iknl/vtg.coxph', subdir=\"src\")"
   ]
  },
  {
   "cell_type": "markdown",
   "id": "6b3f7b6e",
   "metadata": {},
   "source": [
    "Now the R-package is installed, we can start executing this package.\n",
    "\n",
    "**Task: fill in the correct connection details in the cell below, and execute this cell**"
   ]
  },
  {
   "cell_type": "code",
   "execution_count": null,
   "id": "0b2b11f6",
   "metadata": {},
   "outputs": [],
   "source": [
    "setup.client <- function() {\n",
    "  # Define parameters\n",
    "  username <- \"\"\n",
    "  password <- \"\"\n",
    "  host <- ''\n",
    "  api_path <- '/api'\n",
    "  \n",
    "  # Create the client\n",
    "  client <- vtg::Client$new(host, api_path=api_path)\n",
    "  client$authenticate(username, password)\n",
    "\n",
    "  return(client)\n",
    "}\n",
    "\n",
    "# Create a client\n",
    "client <- setup.client()"
   ]
  },
  {
   "cell_type": "markdown",
   "id": "d43e1dcd",
   "metadata": {},
   "source": [
    "We are now connected to the Vantage central server, and have access to several collaborations.\n",
    "\n",
    "**Task: execute the cell below, to which collaboration(s) do we have access?**"
   ]
  },
  {
   "cell_type": "code",
   "execution_count": null,
   "id": "9a38149b",
   "metadata": {},
   "outputs": [],
   "source": [
    "# Get a list of available collaborations\n",
    "print( client$getCollaborations() )"
   ]
  },
  {
   "cell_type": "markdown",
   "id": "66a0bb5e",
   "metadata": {},
   "source": [
    "Now we can select the collaboration we want to use. Specify the correct collaboration from the previous cell, by entering the collaboration ID below.\n",
    "\n",
    "**Task: enter the collaboration ID, and execute the cell**"
   ]
  },
  {
   "cell_type": "code",
   "execution_count": null,
   "id": "0466fcc5",
   "metadata": {},
   "outputs": [],
   "source": [
    "# Select a collaboration\n",
    "client$setCollaborationId(1)"
   ]
  },
  {
   "cell_type": "markdown",
   "id": "45638051",
   "metadata": {},
   "source": [
    "Now we can specify the model characteristics we want to learn. We can set the input variables (called `expl_vars`) and the right-censored outcome (`time_col` and `censor_col`).\n",
    "\n",
    "**Task: enter the correct input and outcome variables and execute the cell**"
   ]
  },
  {
   "cell_type": "code",
   "execution_count": null,
   "id": "c98db14a",
   "metadata": {},
   "outputs": [],
   "source": [
    "# Define explanatory variables, time column and censor column\n",
    "expl_vars <- c(\"age\",\n",
    "               \"clinical.T.Stage\",\n",
    "               \"Clinical.N.Stage\")\n",
    "time_col <- \"Survival.time\"\n",
    "censor_col <- \"deadstatus.event\""
   ]
  },
  {
   "cell_type": "markdown",
   "id": "1852e532",
   "metadata": {},
   "source": [
    "Finally, we can execute the model, and inspect the results.\n",
    "\n",
    "**Task: execute the cell below. What output do you get? What does this output represent?**"
   ]
  },
  {
   "cell_type": "code",
   "execution_count": null,
   "id": "0271ea96",
   "metadata": {
    "scrolled": false
   },
   "outputs": [],
   "source": [
    "result <- vtg.coxph::dcoxph(client, expl_vars, time_col, censor_col)\n",
    "result"
   ]
  }
 ],
 "metadata": {
  "kernelspec": {
   "display_name": "R",
   "language": "R",
   "name": "ir"
  },
  "language_info": {
   "codemirror_mode": "r",
   "file_extension": ".r",
   "mimetype": "text/x-r-source",
   "name": "R",
   "pygments_lexer": "r",
   "version": "4.1.0"
  }
 },
 "nbformat": 4,
 "nbformat_minor": 5
}
