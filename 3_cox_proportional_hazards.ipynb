{
 "cells": [
  {
   "cell_type": "markdown",
   "id": "2190c032",
   "metadata": {},
   "source": [
    "# Step 3: execute Cox Proportional Hazards model "
   ]
  },
  {
   "cell_type": "code",
   "execution_count": 1,
   "id": "1231c55e",
   "metadata": {},
   "outputs": [
    {
     "name": "stderr",
     "output_type": "stream",
     "text": [
      "Downloading GitHub repo mellesies/vtg.coxph@HEAD\n",
      "\n"
     ]
    },
    {
     "name": "stdout",
     "output_type": "stream",
     "text": [
      "vtg    (NA    -> f549955de...) [GitHub]\n",
      "fansi  (0.4.2 -> 0.5.0       ) [CRAN]\n",
      "pillar (1.6.1 -> 1.6.2       ) [CRAN]\n",
      "rjson  (NA    -> 0.2.20      ) [CRAN]\n"
     ]
    },
    {
     "name": "stderr",
     "output_type": "stream",
     "text": [
      "Downloading GitHub repo mellesies/vtg@HEAD\n",
      "\n"
     ]
    },
    {
     "name": "stdout",
     "output_type": "stream",
     "text": [
      "hexView (NA -> 0.3-4 ) [CRAN]\n",
      "lgr     (NA -> 0.4.2 ) [CRAN]\n",
      "rjson   (NA -> 0.2.20) [CRAN]\n"
     ]
    },
    {
     "name": "stderr",
     "output_type": "stream",
     "text": [
      "Installing 3 packages: hexView, lgr, rjson\n",
      "\n"
     ]
    },
    {
     "name": "stdout",
     "output_type": "stream",
     "text": [
      "\u001b[32m✔\u001b[39m  \u001b[90mchecking for file ‘/tmp/RtmpsM5hHb/remotes7772de9157/IKNL-vtg-f549955/DESCRIPTION’\u001b[39m\u001b[36m\u001b[39m\n",
      "\u001b[90m─\u001b[39m\u001b[90m  \u001b[39m\u001b[90mpreparing ‘vtg’:\u001b[39m\u001b[36m\u001b[39m\n",
      "\u001b[32m✔\u001b[39m  \u001b[90mchecking DESCRIPTION meta-information\u001b[39m\u001b[36m\u001b[39m\n",
      "\u001b[90m─\u001b[39m\u001b[90m  \u001b[39m\u001b[90mchecking for LF line-endings in source and make files and shell scripts\u001b[39m\u001b[36m\u001b[39m\n",
      "\u001b[90m─\u001b[39m\u001b[90m  \u001b[39m\u001b[90mchecking for empty or unneeded directories\u001b[39m\u001b[36m\u001b[39m\n",
      "   Omitted ‘LazyData’ from DESCRIPTION\n",
      "\u001b[90m─\u001b[39m\u001b[90m  \u001b[39m\u001b[90mbuilding ‘vtg_0.1.0.tar.gz’\u001b[39m\u001b[36m\u001b[39m\n",
      "   \n",
      "\r"
     ]
    },
    {
     "name": "stderr",
     "output_type": "stream",
     "text": [
      "Installing 3 packages: fansi, pillar, rjson\n",
      "\n",
      "Skipping install of 'vtg' from a github remote, the SHA1 (f549955d) has not changed since last install.\n",
      "  Use `force = TRUE` to force installation\n",
      "\n"
     ]
    },
    {
     "name": "stdout",
     "output_type": "stream",
     "text": [
      "\u001b[32m✔\u001b[39m  \u001b[90mchecking for file ‘/tmp/RtmpsM5hHb/remotes777f36de89/IKNL-vtg.coxph-d82f278/src/DESCRIPTION’\u001b[39m\u001b[36m\u001b[39m\n",
      "\u001b[90m─\u001b[39m\u001b[90m  \u001b[39m\u001b[90mpreparing ‘vtg.coxph’:\u001b[39m\u001b[36m\u001b[39m\n",
      "\u001b[32m✔\u001b[39m  \u001b[90mchecking DESCRIPTION meta-information\u001b[39m\u001b[36m\u001b[39m\n",
      "\u001b[90m─\u001b[39m\u001b[90m  \u001b[39m\u001b[90mchecking for LF line-endings in source and make files and shell scripts\u001b[39m\u001b[36m\u001b[39m\n",
      "\u001b[90m─\u001b[39m\u001b[90m  \u001b[39m\u001b[90mchecking for empty or unneeded directories\u001b[39m\u001b[36m\u001b[39m\n",
      "\u001b[90m─\u001b[39m\u001b[90m  \u001b[39m\u001b[90mbuilding ‘vtg.coxph_0.1.0.tar.gz’\u001b[39m\u001b[36m\u001b[39m\n",
      "   \n",
      "\r"
     ]
    }
   ],
   "source": [
    "# This also installs the package vtg\n",
    "devtools::install_github('mellesies/vtg.coxph', subdir=\"src\")"
   ]
  },
  {
   "cell_type": "code",
   "execution_count": 2,
   "id": "0b2b11f6",
   "metadata": {},
   "outputs": [
    {
     "name": "stderr",
     "output_type": "stream",
     "text": [
      "-----------------------------------------\n",
      "  Welcome to the Vantage Infrastructure\n",
      "-----------------------------------------\n",
      "\n"
     ]
    }
   ],
   "source": [
    "setup.client <- function() {\n",
    "  # Define parameters\n",
    "  username <- \"node1-user\"\n",
    "  password <- \"node1-password\"\n",
    "  host <- 'http://home.johanvansoest.nl:5000'\n",
    "  api_path <- '/api'\n",
    "  \n",
    "  # Create the client\n",
    "  client <- vtg::Client$new(host, api_path=api_path)\n",
    "  client$authenticate(username, password)\n",
    "\n",
    "  return(client)\n",
    "}\n",
    "\n",
    "# Create a client\n",
    "client <- setup.client()"
   ]
  },
  {
   "cell_type": "code",
   "execution_count": 3,
   "id": "9a38149b",
   "metadata": {},
   "outputs": [
    {
     "name": "stdout",
     "output_type": "stream",
     "text": [
      "  id    name\n",
      "1  1 v6-demo\n"
     ]
    }
   ],
   "source": [
    "# Get a list of available collaborations\n",
    "print( client$getCollaborations() )"
   ]
  },
  {
   "cell_type": "code",
   "execution_count": 4,
   "id": "0466fcc5",
   "metadata": {},
   "outputs": [],
   "source": [
    "# Select a collaboration\n",
    "client$setCollaborationId(1)"
   ]
  },
  {
   "cell_type": "code",
   "execution_count": 7,
   "id": "c98db14a",
   "metadata": {},
   "outputs": [],
   "source": [
    "# Define explanatory variables, time column and censor column\n",
    "expl_vars <- c(\"age\",\n",
    "               \"gender\",\n",
    "               \"Clinical.T.Stage\",\n",
    "               \"Clinical.N.Stage\")\n",
    "time_col <- \"Survival.time\"\n",
    "censor_col <- \"deadstatus.event\""
   ]
  },
  {
   "cell_type": "code",
   "execution_count": 8,
   "id": "0271ea96",
   "metadata": {
    "scrolled": false
   },
   "outputs": [
    {
     "name": "stdout",
     "output_type": "stream",
     "text": [
      "Serializing to RDS \n",
      "INFO  [08:25:26.135] Task has been assigned id 30 \n",
      "INFO  [08:25:26.137]  run id 30 \n",
      "INFO  [08:25:30.870] Received 3 results. \n"
     ]
    },
    {
     "name": "stderr",
     "output_type": "stream",
     "text": [
      "Warning message in read_data_format(rawbindata):\n",
      "“No supported data format prepended. Proceding, assuming it is RDS.”\n",
      "Warning message in read_data_format(rawbindata):\n",
      "“No supported data format prepended. Proceding, assuming it is RDS.”\n",
      "Warning message in read_data_format(rawbindata):\n",
      "“No supported data format prepended. Proceding, assuming it is RDS.”\n"
     ]
    },
    {
     "name": "stdout",
     "output_type": "stream",
     "text": [
      "Serializing to RDS \n",
      "INFO  [08:25:31.141] Task has been assigned id 31 \n",
      "INFO  [08:25:31.143]  run id 31 \n",
      "INFO  [08:25:34.799] Received 3 results. \n"
     ]
    },
    {
     "name": "stderr",
     "output_type": "stream",
     "text": [
      "Warning message in read_data_format(rawbindata):\n",
      "“No supported data format prepended. Proceding, assuming it is RDS.”\n"
     ]
    },
    {
     "name": "stdout",
     "output_type": "stream",
     "text": [
      "\u001b[38;5;167mERROR\u001b[39m [08:25:34.806] Shoot :@ \n",
      "\u001b[38;5;167mERROR\u001b[39m [08:25:34.810]  \n"
     ]
    },
    {
     "name": "stderr",
     "output_type": "stream",
     "text": [
      "Warning message in read_data_format(rawbindata):\n",
      "“No supported data format prepended. Proceding, assuming it is RDS.”\n"
     ]
    },
    {
     "name": "stdout",
     "output_type": "stream",
     "text": [
      "\u001b[38;5;167mERROR\u001b[39m [08:25:34.823] Shoot :@ \n",
      "\u001b[38;5;167mERROR\u001b[39m [08:25:34.844]  \n"
     ]
    },
    {
     "name": "stderr",
     "output_type": "stream",
     "text": [
      "Warning message in read_data_format(rawbindata):\n",
      "“No supported data format prepended. Proceding, assuming it is RDS.”\n"
     ]
    },
    {
     "name": "stdout",
     "output_type": "stream",
     "text": [
      "\u001b[38;5;167mERROR\u001b[39m [08:25:34.858] Shoot :@ \n",
      "\u001b[38;5;167mERROR\u001b[39m [08:25:34.862]  \n"
     ]
    },
    {
     "ename": "ERROR",
     "evalue": "Error in apply(z_hat, 2, as.numeric): 'list' object cannot be coerced to type 'double'\n",
     "output_type": "error",
     "traceback": [
      "Error in apply(z_hat, 2, as.numeric): 'list' object cannot be coerced to type 'double'\nTraceback:\n",
      "1. vtg.coxph::dcoxph(client, expl_vars, time_col, censor_col)",
      "2. apply(z_hat, 2, as.numeric)"
     ]
    }
   ],
   "source": [
    "result <- vtg.coxph::dcoxph(client, expl_vars, time_col, censor_col)"
   ]
  },
  {
   "cell_type": "code",
   "execution_count": null,
   "id": "2ae5d40d",
   "metadata": {},
   "outputs": [],
   "source": []
  }
 ],
 "metadata": {
  "kernelspec": {
   "display_name": "R",
   "language": "R",
   "name": "ir"
  },
  "language_info": {
   "codemirror_mode": "r",
   "file_extension": ".r",
   "mimetype": "text/x-r-source",
   "name": "R",
   "pygments_lexer": "r",
   "version": "4.1.0"
  }
 },
 "nbformat": 4,
 "nbformat_minor": 5
}
