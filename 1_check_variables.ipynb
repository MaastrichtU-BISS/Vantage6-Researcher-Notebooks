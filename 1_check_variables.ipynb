{
 "cells": [
  {
   "cell_type": "code",
   "execution_count": 20,
   "id": "e67b9da6",
   "metadata": {},
   "outputs": [],
   "source": [
    "vantage_broker_url = \"http://home.johanvansoest.nl\"\n",
    "vantage_broker_username = \"node1-user\"\n",
    "vantage_broker_password = \"node1-password\"\n",
    "\n",
    "vantage_broker_encryption = None\n",
    "vantage_broker_port = 5000\n",
    "vantage_broker_api_path = \"/api\""
   ]
  },
  {
   "cell_type": "code",
   "execution_count": 22,
   "id": "c2a61001",
   "metadata": {},
   "outputs": [],
   "source": [
    "# Setup client connection\n",
    "from vantage6.client import Client\n",
    "client = Client(vantage_broker_url, vantage_broker_port, vantage_broker_api_path)\n",
    "client.authenticate(vantage_broker_username, vantage_broker_password)\n",
    "client.setup_encryption(vantage_broker_encryption)"
   ]
  },
  {
   "cell_type": "code",
   "execution_count": 49,
   "id": "f02c1953",
   "metadata": {},
   "outputs": [],
   "source": [
    "collaboration_list = client.collaboration.list()\n",
    "organization_index = 0\n",
    "organization_ids_ = [ ]\n",
    "\n",
    "for organization in collaboration_list[organization_index]['organizations']:\n",
    "    organization_ids_.append(organization['id'])"
   ]
  },
  {
   "cell_type": "code",
   "execution_count": 51,
   "id": "9af9a9fc",
   "metadata": {},
   "outputs": [],
   "source": [
    "input_ = {\n",
    "    \"master\": \"true\",\n",
    "    \"method\":\"master\", \n",
    "    \"args\": [ ],\n",
    "    \"kwargs\": {}\n",
    "}\n",
    "\n",
    "task = client.post_task(\n",
    "    name=\"RetrieveVariables\",\n",
    "    image=\"jaspersnel/v6-colnames-py\",\n",
    "    collaboration_id=collaboration_list[organization_index]['id'],#Get the first collaboration associated with user\n",
    "    input_= input_,\n",
    "    organization_ids=[organization_ids_[0]]\n",
    ")"
   ]
  },
  {
   "cell_type": "code",
   "execution_count": 65,
   "id": "7670cd11",
   "metadata": {},
   "outputs": [
    {
     "name": "stdout",
     "output_type": "stream",
     "text": [
      "{'PatientID': 3, 'age': 3, 'Clinical.T.Stage': 3, 'Clinical.N.Stage': 3, 'Clinical.M.Stage': 3, 'Overall.Stage': 3, 'Histology': 3, 'gender': 3, 'Survival.time': 3, 'deadstatus.event': 3}\n"
     ]
    }
   ],
   "source": [
    "import time\n",
    "resultObjRef = task.get(\"results\")[0]\n",
    "resultObj = client.result.get(resultObjRef['id'])\n",
    "attempts = 1\n",
    "while((resultObj[\"finished_at\"] == None) and attempts < 10):\n",
    "    print(\"waiting...\")\n",
    "    time.sleep(5)\n",
    "    resultObj = client.result.get(resultObjRef['id'])\n",
    "    attempts += 1\n",
    "colnamesLists = resultObj['result']\n",
    "\n",
    "colnames = [item for sublist in colnamesLists for item in sublist]\n",
    "colCount = {}\n",
    "for colname in colnames:\n",
    "    if colname in colCount:\n",
    "        colCount[colname] = colCount[colname] + 1\n",
    "    else:\n",
    "        colCount[colname] = 1\n",
    "print(colCount)\n",
    "#print(\"\")\n",
    "#print(resultObj['log'])   "
   ]
  },
  {
   "cell_type": "code",
   "execution_count": null,
   "id": "0e6e8c3f",
   "metadata": {},
   "outputs": [],
   "source": []
  }
 ],
 "metadata": {
  "kernelspec": {
   "display_name": "Python 3",
   "language": "python",
   "name": "python3"
  },
  "language_info": {
   "codemirror_mode": {
    "name": "ipython",
    "version": 3
   },
   "file_extension": ".py",
   "mimetype": "text/x-python",
   "name": "python",
   "nbconvert_exporter": "python",
   "pygments_lexer": "ipython3",
   "version": "3.8.7"
  }
 },
 "nbformat": 4,
 "nbformat_minor": 5
}
